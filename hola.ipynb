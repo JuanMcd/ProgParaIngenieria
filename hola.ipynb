{
 "cells": [
  {
   "cell_type": "markdown",
   "metadata": {},
   "source": [
    "# Actividad Interpolación\n",
    "\n",
    "Por: Juan Manuel Calvo Duque"
   ]
  },
  {
   "cell_type": "code",
   "execution_count": 1,
   "metadata": {},
   "outputs": [
    {
     "name": "stdout",
     "output_type": "stream",
     "text": [
      "El valor interpolado para xi=30 es: 1.1644999999999999\n"
     ]
    }
   ],
   "source": [
    "import numpy as np\n",
    "xi = [20, 40, 60, 80, 100, 120, 140, 160, 180]\n",
    "fi =   [1.045, 1.124, 1.178, 1.229, 1.275, 1.319, 1.347,1.361,1.374]\n",
    "# Valor a interpolar\n",
    "x_interpolar = 55\n",
    "\n",
    "# Realizar la interpolación\n",
    "f_interpolar = np.interp(x_interpolar, xi, fi)\n",
    "\n",
    "print(f\"El valor interpolado para xi=30 es: {f_interpolar}\")\n",
    "print(\"Haciendo testeo de commits\")"
   ]
  }
 ],
 "metadata": {
  "kernelspec": {
   "display_name": "Python 3",
   "language": "python",
   "name": "python3"
  },
  "language_info": {
   "codemirror_mode": {
    "name": "ipython",
    "version": 3
   },
   "file_extension": ".py",
   "mimetype": "text/x-python",
   "name": "python",
   "nbconvert_exporter": "python",
   "pygments_lexer": "ipython3",
   "version": "3.12.2"
  }
 },
 "nbformat": 4,
 "nbformat_minor": 2
}
